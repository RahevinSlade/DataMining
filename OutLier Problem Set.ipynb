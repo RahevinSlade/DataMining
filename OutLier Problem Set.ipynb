{
 "cells": [
  {
   "cell_type": "code",
   "execution_count": 69,
   "metadata": {},
   "outputs": [],
   "source": [
    "#Rahevin Potter-Clark\n",
    "#With collaboration with \n",
    "#Alexandria LeClerc, Mason Stokes, and Nathan Stark\n",
    "\n",
    "import numpy as npy\n",
    "import matplotlib as mpl\n",
    "import matplotlib.pyplot as plt\n",
    "import scipy\n",
    "import math\n",
    "from sklearn.naive_bayes import GaussianNB\n",
    "from scipy import stats\n",
    "import pandas as pd\n",
    "from sklearn import metrics\n",
    "\n",
    "data = npy.load('O_data.npy')"
   ]
  },
  {
   "cell_type": "code",
   "execution_count": 70,
   "metadata": {},
   "outputs": [
    {
     "name": "stdout",
     "output_type": "stream",
     "text": [
      "The mean of our data set is:  50.3324924158986 \n",
      "\n",
      "The median of our data set is:  49.99696148252969 \n",
      "\n",
      "The variance of our data set is:  115.88565801835402\n"
     ]
    }
   ],
   "source": [
    "#Problem 1, find the mean, median and variance\n",
    "\n",
    "mean = data.mean() #finds the average of the data set\n",
    "\n",
    "print('The mean of our data set is: ',mean, '\\n')\n",
    "\n",
    "def median(lst): ##created a find the median function\n",
    "    sortedLst = sorted(lst)##sort if not already sorted\n",
    "    lstLen = len(lst)\n",
    "    index = (lstLen - 1) // 2 \n",
    "    if (lstLen % 2):\n",
    "        return sortedLst[index]\n",
    "    else:\n",
    "        return (sortedLst[index] + sortedLst[index + 1])/2.0\n",
    "    \n",
    "middle = median(data)\n",
    "\n",
    "print('The median of our data set is: ', middle,'\\n')\n",
    "\n",
    "var = npy.var(data)\n",
    "\n",
    "print('The variance of our data set is: ', var)"
   ]
  },
  {
   "cell_type": "code",
   "execution_count": 71,
   "metadata": {},
   "outputs": [
    {
     "name": "stdout",
     "output_type": "stream",
     "text": [
      "Histogram of our data\n"
     ]
    },
    {
     "data": {
      "image/png": "[encoded data removed]",
      "text/plain": [
       "<Figure size 432x288 with 1 Axes>"
      ]
     },
     "metadata": {},
     "output_type": "display_data"
    },
    {
     "name": "stdout",
     "output_type": "stream",
     "text": [
      "Historgram of mean, median, and var\n"
     ]
    },
    {
     "data": {
      "image/png": "[encoded data removed]",
      "text/plain": [
       "<Figure size 432x288 with 1 Axes>"
      ]
     },
     "metadata": {},
     "output_type": "display_data"
    }
   ],
   "source": [
    "#Problem 2, Plot a histogram for the observations\n",
    " \n",
    "observations = [mean, middle, var]\n",
    "print('Histogram of our data')\n",
    "plt.hist(data)\n",
    "plt.show()\n",
    "print('Historgram of mean, median, and var')\n",
    "plt.hist(observations)\n",
    "plt.show()"
   ]
  },
  {
   "cell_type": "code",
   "execution_count": 72,
   "metadata": {},
   "outputs": [],
   "source": [
    "#Problem 3\n",
    "\n",
    "##The mean and median are super close, but with a high variance,\n",
    "#this means the data is more spread out and not clumped around the mean.\n"
   ]
  },
  {
   "cell_type": "code",
   "execution_count": 73,
   "metadata": {},
   "outputs": [
    {
     "name": "stdout",
     "output_type": "stream",
     "text": [
      "Our lower bound =  50.22505751517779 \n",
      "\n",
      "Our upper bound =  50.43992731661941 \n",
      "\n"
     ]
    }
   ],
   "source": [
    "#Problem 4\n",
    "#find the upper/lower bounds with confidence interval of 0.998\n",
    "\n",
    "Error_percent = 0.998\n",
    "stdev = data.std()#find out standard deviations\n",
    "datasize = len(data) #find the size of our list\n",
    "margin_of_error = Error_percent * (stdev/(math.sqrt(datasize)))\n",
    "#print(Error_percent, stdev, datasize, margin_of_error)\n",
    "lbound = mean - margin_of_error\n",
    "ubound = mean + margin_of_error\n",
    "print('Our lower bound = ', lbound, '\\n')\n",
    "print('Our upper bound = ', ubound, '\\n')\n",
    "\n",
    "##Create a filter and remove all extreme values from the data set\n",
    "\n",
    "newdata = []\n",
    "\n",
    "for i in data:\n",
    "    if (i >= lbound) and (i <= ubound):\n",
    "        newdata.append(i)"
   ]
  },
  {
   "cell_type": "code",
   "execution_count": 74,
   "metadata": {},
   "outputs": [
    {
     "name": "stdout",
     "output_type": "stream",
     "text": [
      "The new mean of our data is =  50.33423857375526 \n",
      "\n",
      "The new median of our data is =  50.32659557762607 \n",
      "\n",
      "The new variance of our data is =  0.003940747119699583 \n",
      "\n",
      "Histogram of our new data\n"
     ]
    },
    {
     "data": {
      "image/png": "[encoded data removed]",
      "text/plain": [
       "<Figure size 432x288 with 1 Axes>"
      ]
     },
     "metadata": {},
     "output_type": "display_data"
    },
    {
     "name": "stdout",
     "output_type": "stream",
     "text": [
      "Historgram of mean2, median2, and var2\n"
     ]
    },
    {
     "data": {
      "image/png": "[encoded data removed]",
      "text/plain": [
       "<Figure size 432x288 with 1 Axes>"
      ]
     },
     "metadata": {},
     "output_type": "display_data"
    }
   ],
   "source": [
    "#Problem 5\n",
    "#determine the mean, median, and variance of the filtered observations\n",
    "#and plot a histogram\n",
    "\n",
    "mean2 = npy.mean(newdata)\n",
    "middle2 = median(newdata)\n",
    "var2 = npy.var(newdata)\n",
    "\n",
    "print('The new mean of our data is = ', mean2, '\\n')\n",
    "print('The new median of our data is = ', middle2, '\\n')\n",
    "print('The new variance of our data is = ', var2, '\\n')\n",
    "\n",
    "observations2 = [mean2, middle2, var2]\n",
    "print('Histogram of our new data')\n",
    "plt.hist(newdata)\n",
    "plt.show()\n",
    "print('Historgram of mean2, median2, and var2')\n",
    "plt.hist(observations2)\n",
    "plt.show()"
   ]
  },
  {
   "cell_type": "code",
   "execution_count": 75,
   "metadata": {},
   "outputs": [
    {
     "name": "stdout",
     "output_type": "stream",
     "text": [
      "Histogram of our data\n"
     ]
    },
    {
     "data": {
      "image/png": "[encoded data removed]",
      "text/plain": [
       "<Figure size 432x288 with 1 Axes>"
      ]
     },
     "metadata": {},
     "output_type": "display_data"
    },
    {
     "name": "stdout",
     "output_type": "stream",
     "text": [
      "Historgram of our new data\n"
     ]
    },
    {
     "data": {
      "image/png": "[encoded data removed]",
      "text/plain": [
       "<Figure size 432x288 with 1 Axes>"
      ]
     },
     "metadata": {},
     "output_type": "display_data"
    },
    {
     "name": "stdout",
     "output_type": "stream",
     "text": [
      "Observations that were removed =  9906\n"
     ]
    }
   ],
   "source": [
    "#Problem 6\n",
    "#do the mean and median values line up? campare the histograms\n",
    "#have the outliers been removed? How many obersvations were removed?\n",
    "\n",
    "#The means and median values are much closer after filtering through the data set\n",
    "\n",
    "print('Histogram of our data')\n",
    "plt.hist(data)\n",
    "plt.show()\n",
    "print('Historgram of our new data')\n",
    "plt.hist(newdata)\n",
    "plt.show()\n",
    "\n",
    "##We can view that there are no longer outliers in our data set\n",
    "print('Observations that were removed = ', len(data) - len(newdata))"
   ]
  },
  {
   "cell_type": "code",
   "execution_count": 83,
   "metadata": {},
   "outputs": [
    {
     "name": "stdout",
     "output_type": "stream",
     "text": [
      "Problem 7, step 4 \n",
      "\n",
      "Our lower bound =  50.22591871678677 \n",
      "\n",
      "Our upper bound =  50.43906611501043 \n",
      "\n",
      "Problem 7, step 5 \n",
      "\n",
      "The new new mean of our data is =  50.33540674286185 \n",
      "\n",
      "The new new median of our data is =  50.33097703296837 \n",
      "\n",
      "The new new variance of our data is =  0.003854846552855023 \n",
      "\n",
      "Histogram of our new new data\n"
     ]
    },
    {
     "data": {
      "image/png": "[encoded data removed]",
      "text/plain": [
       "<Figure size 432x288 with 1 Axes>"
      ]
     },
     "metadata": {},
     "output_type": "display_data"
    },
    {
     "name": "stdout",
     "output_type": "stream",
     "text": [
      "Historgram of mean3, median3, and var3\n"
     ]
    },
    {
     "data": {
      "image/png": "[encoded data removed]",
      "text/plain": [
       "<Figure size 432x288 with 1 Axes>"
      ]
     },
     "metadata": {},
     "output_type": "display_data"
    },
    {
     "name": "stdout",
     "output_type": "stream",
     "text": [
      "Problem 7, step 6 \n",
      "\n",
      "Histogram of our data\n"
     ]
    },
    {
     "data": {
      "image/png": "[encoded data removed]",
      "text/plain": [
       "<Figure size 432x288 with 1 Axes>"
      ]
     },
     "metadata": {},
     "output_type": "display_data"
    },
    {
     "name": "stdout",
     "output_type": "stream",
     "text": [
      "Historgram of our new data\n"
     ]
    },
    {
     "data": {
      "image/png": "[encoded data removed]",
      "text/plain": [
       "<Figure size 432x288 with 1 Axes>"
      ]
     },
     "metadata": {},
     "output_type": "display_data"
    },
    {
     "name": "stdout",
     "output_type": "stream",
     "text": [
      "Observations that were removed =  9907 \n",
      "\n",
      "The difference between our .998 and .99 variance is  8.59005668445603e-05\n"
     ]
    }
   ],
   "source": [
    "## Problem 7\n",
    "##Repeat steps 4, 5, and 6 with a 0.99 confidence interval\n",
    "##compared the variance due to the increased filtering to the amount of improvement\n",
    "\n",
    "######   step '4'   #######\n",
    "print('Problem 7, step 4 \\n')\n",
    "Error_percent2 = 0.99\n",
    "#stdev = data.std()#find out standard deviations\n",
    "#datasize = len(data) #find the size of our list\n",
    "margin_of_error2 = Error_percent2 * (stdev/(math.sqrt(datasize)))\n",
    "#print(Error_percent, stdev, datasize, margin_of_error)\n",
    "lbound2 = mean - margin_of_error2\n",
    "ubound2 = mean + margin_of_error2\n",
    "print('Our lower bound = ', lbound2, '\\n')\n",
    "print('Our upper bound = ', ubound2, '\\n')\n",
    "\n",
    "##Create a filter and remove all extreme values from the data set\n",
    "\n",
    "newnewdata = []\n",
    "\n",
    "for i in data:\n",
    "    if (i >= lbound2) and (i <= ubound2):\n",
    "        newnewdata.append(i)\n",
    "\n",
    "        \n",
    "######   step '5'   #######\n",
    "print('Problem 7, step 5 \\n')\n",
    "mean3 = npy.mean(newnewdata)\n",
    "middle3 = median(newnewdata)\n",
    "var3 = npy.var(newnewdata)\n",
    "\n",
    "print('The new new mean of our data is = ', mean3, '\\n')\n",
    "print('The new new median of our data is = ', middle3, '\\n')\n",
    "print('The new new variance of our data is = ', var3, '\\n')\n",
    "\n",
    "observations3 = [mean3, middle3, var3]\n",
    "print('Histogram of our new new data')\n",
    "plt.hist(newnewdata)\n",
    "plt.show()\n",
    "print('Historgram of mean3, median3, and var3')\n",
    "plt.hist(observations3)\n",
    "plt.show()\n",
    "\n",
    "\n",
    "######   step '6'   #######\n",
    "print('Problem 7, step 6 \\n')\n",
    "\n",
    "### We can see that our new new mean and median values are much closer than that\n",
    "### of the .998 confidence interval\n",
    "print('Histogram of our data')\n",
    "plt.hist(data)\n",
    "plt.show()\n",
    "print('Historgram of our new data')\n",
    "plt.hist(newnewdata)\n",
    "plt.show()\n",
    "\n",
    "##We can view that there are no longer outliers in our data set\n",
    "print('Observations that were removed = ', len(data) - len(newnewdata), '\\n')\n",
    "\n",
    "#######   step '7'    ######\n",
    "\n",
    "print('The difference between our .998 and .99 variance is ', var2 - var3)\n",
    "\n",
    "## I do think the 0.998 confidence interval is sufficent for removing outliers\n",
    "## although it doesnt hurt to check our number against different confidence interval to improve \n",
    "## or conclude out data with more accurate precision"
   ]
  },
  {
   "cell_type": "code",
   "execution_count": null,
   "metadata": {},
   "outputs": [],
   "source": []
  },
  {
   "cell_type": "code",
   "execution_count": null,
   "metadata": {},
   "outputs": [],
   "source": []
  }
 ],
 "metadata": {
  "kernelspec": {
   "display_name": "Python 3",
   "language": "python",
   "name": "python3"
  },
  "language_info": {
   "codemirror_mode": {
    "name": "ipython",
    "version": 3
   },
   "file_extension": ".py",
   "mimetype": "text/x-python",
   "name": "python",
   "nbconvert_exporter": "python",
   "pygments_lexer": "ipython3",
   "version": "3.6.5"
  }
 },
 "nbformat": 4,
 "nbformat_minor": 2
}
